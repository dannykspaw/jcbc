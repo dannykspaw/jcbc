{
 "cells": [
  {
   "cell_type": "code",
   "execution_count": 37,
   "metadata": {},
   "outputs": [],
   "source": [
    "import pandas as pd\n",
    "import numpy as np"
   ]
  },
  {
   "cell_type": "code",
   "execution_count": 38,
   "metadata": {},
   "outputs": [],
   "source": [
    "ornaments = pd.read_csv('hallmarkornaments_com_prod_info/hmo_combined_info.csv')"
   ]
  },
  {
   "cell_type": "code",
   "execution_count": 39,
   "metadata": {},
   "outputs": [
    {
     "name": "stdout",
     "output_type": "stream",
     "text": [
      "Index(['Product Code', 'Product Name', 'Product Price', 'Product Brand',\n",
      "       'Product Availability', 'Product Link'],\n",
      "      dtype='object')\n",
      "(6691, 6)\n",
      "Product Code            object\n",
      "Product Name            object\n",
      "Product Price           object\n",
      "Product Brand           object\n",
      "Product Availability    object\n",
      "Product Link            object\n",
      "dtype: object\n"
     ]
    }
   ],
   "source": [
    "print(ornaments.columns)\n",
    "print(ornaments.shape)\n",
    "print(ornaments.dtypes)"
   ]
  },
  {
   "cell_type": "markdown",
   "metadata": {},
   "source": [
    "# Data Clean and Manipulation"
   ]
  },
  {
   "cell_type": "markdown",
   "metadata": {},
   "source": [
    "## Break Out Years into Separate Data Point"
   ]
  },
  {
   "cell_type": "code",
   "execution_count": 41,
   "metadata": {},
   "outputs": [
    {
     "data": {
      "text/html": [
       "<div>\n",
       "<style scoped>\n",
       "    .dataframe tbody tr th:only-of-type {\n",
       "        vertical-align: middle;\n",
       "    }\n",
       "\n",
       "    .dataframe tbody tr th {\n",
       "        vertical-align: top;\n",
       "    }\n",
       "\n",
       "    .dataframe thead th {\n",
       "        text-align: right;\n",
       "    }\n",
       "</style>\n",
       "<table border=\"1\" class=\"dataframe\">\n",
       "  <thead>\n",
       "    <tr style=\"text-align: right;\">\n",
       "      <th></th>\n",
       "      <th>Product Code</th>\n",
       "      <th>Product Name</th>\n",
       "      <th>Product Price</th>\n",
       "      <th>Product Brand</th>\n",
       "      <th>Product Availability</th>\n",
       "      <th>Product Link</th>\n",
       "      <th>Product Year</th>\n",
       "    </tr>\n",
       "  </thead>\n",
       "  <tbody>\n",
       "    <tr>\n",
       "      <th>0</th>\n",
       "      <td>QX6691</td>\n",
       "      <td>2000 1924 Toledo Fire Engine, Kiddie Car Class...</td>\n",
       "      <td>$20.95</td>\n",
       "      <td>Hallmark</td>\n",
       "      <td>In Stock.</td>\n",
       "      <td>https://www.hallmarkornaments.com/2000-1924-To...</td>\n",
       "      <td>2000</td>\n",
       "    </tr>\n",
       "    <tr>\n",
       "      <th>1</th>\n",
       "      <td>QEO8401</td>\n",
       "      <td>2000 1935 Auburn Speedster, Vintage Roadsters #3</td>\n",
       "      <td>$31.95</td>\n",
       "      <td>Hallmark</td>\n",
       "      <td>In Stock.</td>\n",
       "      <td>https://www.hallmarkornaments.com/2000-1935-Au...</td>\n",
       "      <td>2000</td>\n",
       "    </tr>\n",
       "    <tr>\n",
       "      <th>2</th>\n",
       "      <td>QXM5951</td>\n",
       "      <td>2000 1935 Steelcraft by Murray, Miniature Kidd...</td>\n",
       "      <td>$8.95</td>\n",
       "      <td>Hallmark</td>\n",
       "      <td>In Stock.</td>\n",
       "      <td>https://www.hallmarkornaments.com/2000-1935-St...</td>\n",
       "      <td>2000</td>\n",
       "    </tr>\n",
       "  </tbody>\n",
       "</table>\n",
       "</div>"
      ],
      "text/plain": [
       "  Product Code                                       Product Name  \\\n",
       "0       QX6691  2000 1924 Toledo Fire Engine, Kiddie Car Class...   \n",
       "1      QEO8401   2000 1935 Auburn Speedster, Vintage Roadsters #3   \n",
       "2      QXM5951  2000 1935 Steelcraft by Murray, Miniature Kidd...   \n",
       "\n",
       "  Product Price Product Brand Product Availability  \\\n",
       "0        $20.95      Hallmark            In Stock.   \n",
       "1        $31.95      Hallmark            In Stock.   \n",
       "2         $8.95      Hallmark            In Stock.   \n",
       "\n",
       "                                        Product Link Product Year  \n",
       "0  https://www.hallmarkornaments.com/2000-1924-To...         2000  \n",
       "1  https://www.hallmarkornaments.com/2000-1935-Au...         2000  \n",
       "2  https://www.hallmarkornaments.com/2000-1935-St...         2000  "
      ]
     },
     "execution_count": 41,
     "metadata": {},
     "output_type": "execute_result"
    }
   ],
   "source": [
    "ornament_years = []\n",
    "\n",
    "ornament_links = ornaments['Product Link']\n",
    "\n",
    "for x in ornament_links:\n",
    "    year_loc = x.find(\".com/\")\n",
    "    year = x[(year_loc+5):(year_loc+9)]\n",
    "    ornament_years.append(year)\n",
    "\n",
    "ornaments['Product Year'] = ornament_years\n",
    "ornaments.head(3)"
   ]
  },
  {
   "cell_type": "code",
   "execution_count": null,
   "metadata": {},
   "outputs": [],
   "source": []
  }
 ],
 "metadata": {
  "kernelspec": {
   "display_name": "Python 3",
   "language": "python",
   "name": "python3"
  },
  "language_info": {
   "codemirror_mode": {
    "name": "ipython",
    "version": 3
   },
   "file_extension": ".py",
   "mimetype": "text/x-python",
   "name": "python",
   "nbconvert_exporter": "python",
   "pygments_lexer": "ipython3",
   "version": "3.7.3"
  }
 },
 "nbformat": 4,
 "nbformat_minor": 2
}
